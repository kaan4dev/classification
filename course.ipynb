{
 "cells": [
  {
   "cell_type": "markdown",
   "id": "1e32e856",
   "metadata": {},
   "source": [
    "## Imports"
   ]
  },
  {
   "cell_type": "code",
   "execution_count": null,
   "id": "fc05072f",
   "metadata": {},
   "outputs": [],
   "source": [
    "import numpy as np\n",
    "from sklearn import preprocessing, model_selection, neighbors\n",
    "import pandas as pd \n",
    "\n",
    "df = pd.read_csv('breast-cancer-wisconsin.data.txt')\n"
   ]
  },
  {
   "cell_type": "markdown",
   "id": "843215ff",
   "metadata": {},
   "source": [
    "## Understand The Data"
   ]
  },
  {
   "cell_type": "code",
   "execution_count": null,
   "id": "7f8ccace",
   "metadata": {},
   "outputs": [],
   "source": [
    "print(df.shape[0]) \n",
    "print(df.shape[1])"
   ]
  },
  {
   "cell_type": "code",
   "execution_count": null,
   "id": "3974e93d",
   "metadata": {},
   "outputs": [],
   "source": [
    "df.isnull().sum()"
   ]
  },
  {
   "cell_type": "code",
   "execution_count": null,
   "id": "4890d6e2",
   "metadata": {},
   "outputs": [],
   "source": [
    "df.dtypes"
   ]
  },
  {
   "cell_type": "code",
   "execution_count": null,
   "id": "18bbd882",
   "metadata": {},
   "outputs": [],
   "source": [
    "df.describe()"
   ]
  },
  {
   "cell_type": "code",
   "execution_count": null,
   "id": "1d78c38a",
   "metadata": {},
   "outputs": [],
   "source": [
    "for column in df.columns:\n",
    "    print(f\"{column} : {len(df[column].unique())}\")"
   ]
  },
  {
   "cell_type": "markdown",
   "id": "41de36e5",
   "metadata": {},
   "source": [
    "## Clean And Prepare The Data"
   ]
  },
  {
   "cell_type": "code",
   "execution_count": null,
   "id": "65d9a49f",
   "metadata": {},
   "outputs": [],
   "source": [
    "df.replace('?', -99999, inplace= True)"
   ]
  },
  {
   "cell_type": "code",
   "execution_count": null,
   "id": "75df1b87",
   "metadata": {},
   "outputs": [],
   "source": [
    "df.drop(['id'], axis= 1,inplace= True)"
   ]
  },
  {
   "cell_type": "markdown",
   "id": "03d58906",
   "metadata": {},
   "source": [
    "## K Nearest Neighbors "
   ]
  },
  {
   "cell_type": "code",
   "execution_count": null,
   "id": "cbb3f9e9",
   "metadata": {},
   "outputs": [],
   "source": [
    "x = np.array(df.drop(['class'], axis= 1))\n",
    "y = np.array(df['class'])\n",
    "\n",
    "xTrain, xTest, yTrain, yTest = model_selection.train_test_split(x, y, test_size= 0.2)"
   ]
  },
  {
   "cell_type": "code",
   "execution_count": null,
   "id": "2e11e17f",
   "metadata": {},
   "outputs": [],
   "source": [
    "clf = neighbors.KNeighborsClassifier()\n",
    "clf.fit(xTrain, yTrain)"
   ]
  },
  {
   "cell_type": "code",
   "execution_count": null,
   "id": "7af491cd",
   "metadata": {},
   "outputs": [],
   "source": [
    "accuracy = clf.score(xTest, yTest)\n",
    "print(accuracy)"
   ]
  },
  {
   "cell_type": "code",
   "execution_count": null,
   "id": "5107cbe7",
   "metadata": {},
   "outputs": [],
   "source": [
    "exampleMeasures = np.array([[4, 2, 1, 1, 1, 2, 3, 2, 1], [4, 2, 1, 2, 2, 2, 3, 2, 1]])\n",
    "exampleMeasures = exampleMeasures.reshape(len(exampleMeasures), -1)\n",
    "\n",
    "prediction = clf.predict(exampleMeasures)\n",
    "print(prediction)"
   ]
  }
 ],
 "metadata": {
  "kernelspec": {
   "display_name": "tf-env",
   "language": "python",
   "name": "python3"
  },
  "language_info": {
   "codemirror_mode": {
    "name": "ipython",
    "version": 3
   },
   "file_extension": ".py",
   "mimetype": "text/x-python",
   "name": "python",
   "nbconvert_exporter": "python",
   "pygments_lexer": "ipython3",
   "version": "3.8.20"
  }
 },
 "nbformat": 4,
 "nbformat_minor": 5
}
