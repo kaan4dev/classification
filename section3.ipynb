{
 "cells": [
  {
   "cell_type": "markdown",
   "id": "9429d2bc",
   "metadata": {},
   "source": [
    "## Imports"
   ]
  },
  {
   "cell_type": "code",
   "execution_count": null,
   "id": "207b779c",
   "metadata": {},
   "outputs": [],
   "source": [
    "import numpy as np\n",
    "from sklearn import preprocessing, model_selection, neighbors\n",
    "import pandas as pd \n",
    "from math import sqrt\n",
    "from scipy.spatial import distance\n",
    "import random\n",
    "from collections import Counter\n",
    "\n",
    "df = pd.read_csv('breast-cancer-wisconsin.data.txt')\n"
   ]
  },
  {
   "cell_type": "markdown",
   "id": "cad3caf5",
   "metadata": {},
   "source": [
    "## Understand The Data"
   ]
  },
  {
   "cell_type": "code",
   "execution_count": null,
   "id": "749fa070",
   "metadata": {},
   "outputs": [],
   "source": [
    "print(df.shape[0]) \n",
    "print(df.shape[1])"
   ]
  },
  {
   "cell_type": "code",
   "execution_count": null,
   "id": "3aa0c059",
   "metadata": {},
   "outputs": [],
   "source": [
    "df.isnull().sum()"
   ]
  },
  {
   "cell_type": "code",
   "execution_count": null,
   "id": "cfbbfbb3",
   "metadata": {},
   "outputs": [],
   "source": [
    "df.dtypes"
   ]
  },
  {
   "cell_type": "code",
   "execution_count": null,
   "id": "d6d61920",
   "metadata": {},
   "outputs": [],
   "source": [
    "df.describe()"
   ]
  },
  {
   "cell_type": "code",
   "execution_count": null,
   "id": "85389f4c",
   "metadata": {},
   "outputs": [],
   "source": [
    "for column in df.columns:\n",
    "    print(f\"{column} : {len(df[column].unique())}\")"
   ]
  },
  {
   "cell_type": "markdown",
   "id": "a94ea8d1",
   "metadata": {},
   "source": [
    "## Clean And Prepare The Data"
   ]
  },
  {
   "cell_type": "code",
   "execution_count": null,
   "id": "64cbcb98",
   "metadata": {},
   "outputs": [],
   "source": [
    "df.replace('?', -99999, inplace= True)"
   ]
  },
  {
   "cell_type": "code",
   "execution_count": null,
   "id": "b10a49e5",
   "metadata": {},
   "outputs": [],
   "source": [
    "df.drop(['id'], axis= 1,inplace= True)"
   ]
  },
  {
   "cell_type": "code",
   "execution_count": null,
   "id": "b5f40cce",
   "metadata": {},
   "outputs": [],
   "source": [
    "fullData = df.astype(float).values.tolist()"
   ]
  },
  {
   "cell_type": "code",
   "execution_count": null,
   "id": "602340b6",
   "metadata": {},
   "outputs": [],
   "source": [
    "random.shuffle(fullData)"
   ]
  },
  {
   "cell_type": "code",
   "execution_count": null,
   "id": "beb3c7a8",
   "metadata": {},
   "outputs": [],
   "source": [
    "print(fullData[:5])"
   ]
  },
  {
   "cell_type": "markdown",
   "id": "cb775b57",
   "metadata": {},
   "source": [
    "## K Nearest Neighbors "
   ]
  },
  {
   "cell_type": "code",
   "execution_count": null,
   "id": "4773606b",
   "metadata": {},
   "outputs": [],
   "source": [
    "def kNearestNeighbors(data, predict, k=3):\n",
    "    if len(data) >= k:\n",
    "        warnings.warn('K is set to a value less than total voting groups!')\n",
    "    distances = []\n",
    "    for group in data:\n",
    "        for features in data[group]:\n",
    "            euclidean = np.linalg.norm(np.array(features) - np.array(predict))\n",
    "            distances.append([euclidean, group])\n",
    "\n",
    "    votes = [i[1] for i in sorted(distances)[:k]]        \n",
    "\n",
    "    voteResult = Counter(votes).most_common(1)[0][0]\n",
    "\n",
    "    return voteResult"
   ]
  },
  {
   "cell_type": "code",
   "execution_count": null,
   "id": "9b02e5f3",
   "metadata": {},
   "outputs": [],
   "source": [
    "testSize = 0.2\n",
    "trainSet = {2:[], 4:[]}\n",
    "testSet = {2:[], 4:[]}\n",
    "\n",
    "trainData = fullData[:-int(testSize*len(fullData))]\n",
    "testData = fullData[:-int(testSize*len(fullData)):]"
   ]
  },
  {
   "cell_type": "code",
   "execution_count": null,
   "id": "c083faa1",
   "metadata": {},
   "outputs": [],
   "source": [
    "for i in trainData:\n",
    "    trainSet[i[-1]].append(i[:-1])\n",
    "\n",
    "    for i in trainData:\n",
    "        testSet[i[-1]].append(i[:-1])\n"
   ]
  },
  {
   "cell_type": "code",
   "execution_count": null,
   "id": "38771eed",
   "metadata": {},
   "outputs": [],
   "source": [
    "correct = 0\n",
    "total = 0\n",
    "\n",
    "for group in testSet:\n",
    "    for data in testSet[group]:\n",
    "        vote = kNearestNeighbors(trainSet, data, k=5)  # Pass 'data' as the 'predict' argument\n",
    "        if group == vote:\n",
    "            correct += 1\n",
    "        total += 1\n",
    "\n",
    "print('Accuracy:', correct / total)\n"
   ]
  }
 ],
 "metadata": {
  "kernelspec": {
   "display_name": "tf-env",
   "language": "python",
   "name": "python3"
  },
  "language_info": {
   "codemirror_mode": {
    "name": "ipython",
    "version": 3
   },
   "file_extension": ".py",
   "mimetype": "text/x-python",
   "name": "python",
   "nbconvert_exporter": "python",
   "pygments_lexer": "ipython3",
   "version": "3.8.20"
  }
 },
 "nbformat": 4,
 "nbformat_minor": 5
}
