{
 "cells": [
  {
   "cell_type": "markdown",
   "id": "58c0f11f",
   "metadata": {},
   "source": [
    "## Imports"
   ]
  },
  {
   "cell_type": "code",
   "execution_count": null,
   "id": "972f4983",
   "metadata": {},
   "outputs": [],
   "source": [
    "import numpy as np\n",
    "import pandas as pd \n",
    "import matplotlib.pyplot as plt\n",
    "from collections import Counter\n",
    "from matplotlib import style\n",
    "style.use('fivethirtyeight')\n",
    "from sklearn import preprocessing, model_selection, neighbors\n",
    "from math import sqrt\n",
    "from scipy.spatial import distance\n",
    "\n",
    "import warnings \n"
   ]
  },
  {
   "cell_type": "markdown",
   "id": "77ece07c",
   "metadata": {},
   "source": [
    "## Understand The Data"
   ]
  },
  {
   "cell_type": "code",
   "execution_count": null,
   "id": "5b3d28ca",
   "metadata": {},
   "outputs": [],
   "source": [
    "dataset = {'k': [[1,2], [2,3], [3,1]], 'r': [[6,5], [7,7], [8,6]]}\n",
    "newFeatures = [5,7]"
   ]
  },
  {
   "cell_type": "code",
   "execution_count": null,
   "id": "15281fb0",
   "metadata": {},
   "outputs": [],
   "source": [
    "[plt.scatter(ii[0], ii[1], s=100, color=i) for i in dataset for ii in dataset[i]]\n",
    "plt.scatter(newFeatures[0], newFeatures[1])\n",
    "\n",
    "plt.show()"
   ]
  },
  {
   "cell_type": "markdown",
   "id": "1f926695",
   "metadata": {},
   "source": [
    "## K Nearest Neighbors "
   ]
  },
  {
   "cell_type": "code",
   "execution_count": null,
   "id": "383096c7",
   "metadata": {},
   "outputs": [],
   "source": [
    "def kNearestNeighbors(data, predict, k=3):\n",
    "    if len(data) >= k:\n",
    "        warnings.warn('K is set to a value less than total voting groups!')\n",
    "    distances = []\n",
    "    for group in data:\n",
    "        for features in data[group]:\n",
    "            euclidean = np.linalg.norm(np.array(features) - np.array(predict))\n",
    "            distances.append([euclidean, group])\n",
    "\n",
    "    votes = [i[1] for i in sorted(distances)[:k]]        \n",
    "\n",
    "    voteResult = Counter(votes).most_common(1)[0][0]\n",
    "\n",
    "    return voteResult\n",
    "\n",
    "result = kNearestNeighbors(dataset, newFeatures, k=3)\n",
    "print(result)\n",
    "\n",
    "[[plt.scatter(ii[0], ii[1], s=100, color=i) for ii in dataset[i]] for i in dataset]\n",
    "plt.scatter(newFeatures[0], newFeatures[1], color=result)\n",
    "plt.show()\n"
   ]
  }
 ],
 "metadata": {
  "kernelspec": {
   "display_name": "tf-env",
   "language": "python",
   "name": "python3"
  },
  "language_info": {
   "codemirror_mode": {
    "name": "ipython",
    "version": 3
   },
   "file_extension": ".py",
   "mimetype": "text/x-python",
   "name": "python",
   "nbconvert_exporter": "python",
   "pygments_lexer": "ipython3",
   "version": "3.8.20"
  }
 },
 "nbformat": 4,
 "nbformat_minor": 5
}
